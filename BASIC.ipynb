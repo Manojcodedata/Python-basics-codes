{
  "nbformat": 4,
  "nbformat_minor": 0,
  "metadata": {
    "colab": {
      "provenance": [],
      "authorship_tag": "ABX9TyOtyyRg2HxkLySeIa8n4eg2",
      "include_colab_link": true
    },
    "kernelspec": {
      "name": "python3",
      "display_name": "Python 3"
    },
    "language_info": {
      "name": "python"
    }
  },
  "cells": [
    {
      "cell_type": "markdown",
      "metadata": {
        "id": "view-in-github",
        "colab_type": "text"
      },
      "source": [
        "<a href=\"https://colab.research.google.com/github/Manojcodedata/Python-basics-codes/blob/main/BASIC.ipynb\" target=\"_parent\"><img src=\"https://colab.research.google.com/assets/colab-badge.svg\" alt=\"Open In Colab\"/></a>"
      ]
    },
    {
      "cell_type": "code",
      "source": [
        "num=int(input(\"enter a number: \"))\n",
        "if num%2==0:\n",
        "  print(\"even number\")\n",
        "else:\n",
        "  print(\"odd number\")"
      ],
      "metadata": {
        "colab": {
          "base_uri": "https://localhost:8080/"
        },
        "id": "t_0xw-oil2Ux",
        "outputId": "64e5e392-d6a7-43ab-b279-62722eaedb4e"
      },
      "execution_count": null,
      "outputs": [
        {
          "output_type": "stream",
          "name": "stdout",
          "text": [
            "enter a number: 3\n",
            "odd number\n"
          ]
        }
      ]
    },
    {
      "cell_type": "code",
      "source": [
        "num=int(input(\"enter a number: \"))\n",
        "if num>0:\n",
        "  print(\"number is positive\")\n",
        "else:\n",
        "  print(\"number is negative\")"
      ],
      "metadata": {
        "colab": {
          "base_uri": "https://localhost:8080/"
        },
        "id": "5Dv2E5oTmx0S",
        "outputId": "7f31f921-87f2-46d1-f79a-b92b67727ff0"
      },
      "execution_count": null,
      "outputs": [
        {
          "output_type": "stream",
          "name": "stdout",
          "text": [
            "enter a number: 10\n",
            "number is positive\n"
          ]
        }
      ]
    },
    {
      "cell_type": "code",
      "source": [
        "x=int(input())\n",
        "y=int(input())\n",
        "print(x+y)"
      ],
      "metadata": {
        "id": "IGPn4XqXnvlD",
        "colab": {
          "base_uri": "https://localhost:8080/"
        },
        "outputId": "8d7e0e7c-b932-48cd-d94b-729510fcf4a1"
      },
      "execution_count": null,
      "outputs": [
        {
          "output_type": "stream",
          "name": "stdout",
          "text": [
            "5\n",
            "1456328\n",
            "1456333\n"
          ]
        }
      ]
    },
    {
      "cell_type": "code",
      "source": [
        "# prime or not\n",
        "num=int(input())\n",
        "if num>1:\n",
        "  for i in range(2,num):\n",
        "    if num%i==0:\n",
        "      print(\"not prime\")\n",
        "      break\n",
        "  else:\n",
        "    print(\"prime\")\n",
        "else:\n",
        "  print(\"enter number more than 1\")"
      ],
      "metadata": {
        "colab": {
          "base_uri": "https://localhost:8080/"
        },
        "id": "-t-84NJ7ovkO",
        "outputId": "c0878f6f-b322-4fff-f1a4-91345db663ac"
      },
      "execution_count": null,
      "outputs": [
        {
          "output_type": "stream",
          "name": "stdout",
          "text": [
            "5\n",
            "prime\n"
          ]
        }
      ]
    },
    {
      "cell_type": "code",
      "source": [
        "# palindrome\n",
        "num=int(input(\"enter a number\"))\n",
        "temp=num\n",
        "rev=0\n",
        "while temp>0:\n",
        "   rem=temp%10\n",
        "   rev=rev*10+rem\n",
        "   temp=temp//10\n",
        "if num==rev:\n",
        "  print(\"palindrome\")\n",
        "else:\n",
        "  print(\"not a palindrome\")\n"
      ],
      "metadata": {
        "colab": {
          "base_uri": "https://localhost:8080/"
        },
        "id": "iLAZzn-CtR5Q",
        "outputId": "9bb78e9b-0762-4fa2-8de6-ac997aca81ee"
      },
      "execution_count": null,
      "outputs": [
        {
          "output_type": "stream",
          "name": "stdout",
          "text": [
            "enter a number121\n",
            "palindrome\n"
          ]
        }
      ]
    },
    {
      "cell_type": "code",
      "source": [
        "# fabnocci sequence\n",
        "n=int(input(\"enter a number:\"))\n",
        "n1,n2=0,1\n",
        "n3=0\n",
        "c=0\n",
        "print(n1,n2)\n",
        "while c<n:\n",
        "  n3=n1+n2\n",
        "  print(n3)\n",
        "  n1=n2\n",
        "  n2=n3\n",
        "  c+=1\n"
      ],
      "metadata": {
        "colab": {
          "base_uri": "https://localhost:8080/"
        },
        "id": "h_oG2qcy4Q1C",
        "outputId": "1ce5165a-c4d4-4f11-d8e2-0546bd815e74"
      },
      "execution_count": null,
      "outputs": [
        {
          "output_type": "stream",
          "name": "stdout",
          "text": [
            "enter a number:10\n",
            "0 1\n",
            "1\n",
            "2\n",
            "3\n",
            "5\n",
            "8\n",
            "13\n",
            "21\n",
            "34\n",
            "55\n",
            "89\n"
          ]
        }
      ]
    },
    {
      "cell_type": "code",
      "source": [
        "# factorial\n",
        "n=int(input(\"enter a number:\"))\n",
        "f=1\n",
        "for i in range(1,n+1):\n",
        "  f=f*i\n",
        "print(f)\n",
        "\n",
        "\n"
      ],
      "metadata": {
        "colab": {
          "base_uri": "https://localhost:8080/"
        },
        "id": "Pk_1VVzeDLSm",
        "outputId": "b9bbce5a-e793-4b87-d6ca-57c3eb333bf1"
      },
      "execution_count": null,
      "outputs": [
        {
          "output_type": "stream",
          "name": "stdout",
          "text": [
            "enter a number:4\n",
            "24\n"
          ]
        }
      ]
    },
    {
      "cell_type": "code",
      "source": [
        "# n table\n",
        "n=int(input(\"enter a num: \"))\n",
        "for i in range(11):\n",
        "  x=n*i\n",
        "  print(n,\"*\",i,\"=\",x)"
      ],
      "metadata": {
        "colab": {
          "base_uri": "https://localhost:8080/"
        },
        "id": "Yi4CYa_5LWdx",
        "outputId": "7f435ccd-65d6-47dd-bc1e-02d50badd5d3"
      },
      "execution_count": null,
      "outputs": [
        {
          "output_type": "stream",
          "name": "stdout",
          "text": [
            "enter a num: 18\n",
            "18 * 0 = 0\n",
            "18 * 1 = 18\n",
            "18 * 2 = 36\n",
            "18 * 3 = 54\n",
            "18 * 4 = 72\n",
            "18 * 5 = 90\n",
            "18 * 6 = 108\n",
            "18 * 7 = 126\n",
            "18 * 8 = 144\n",
            "18 * 9 = 162\n",
            "18 * 10 = 180\n"
          ]
        }
      ]
    },
    {
      "cell_type": "code",
      "source": [
        "# print n prime numbers\n",
        "n=int(input(\"enter a num:\"))\n",
        "for i in range(2,n+1):\n",
        "  if i>1:\n",
        "    for x in range(2,i):\n",
        "      if i%x==0:\n",
        "        break\n",
        "    else:\n",
        "        print(i)\n",
        "\n",
        "\n",
        "\n"
      ],
      "metadata": {
        "id": "2GE9i5YpMNm2",
        "colab": {
          "base_uri": "https://localhost:8080/"
        },
        "outputId": "f08c3b79-403a-45b8-a46f-d01e916a2014"
      },
      "execution_count": null,
      "outputs": [
        {
          "output_type": "stream",
          "name": "stdout",
          "text": [
            "enter a num:20\n",
            "2\n",
            "3\n",
            "5\n",
            "7\n",
            "11\n",
            "13\n",
            "17\n",
            "19\n"
          ]
        }
      ]
    },
    {
      "cell_type": "code",
      "source": [
        "# print first n prime numbers\n",
        "n = int(input (\"Please, Enter the Lowest Range Value: \"))\n",
        "\n",
        "print (\"The Prime Numbers in the range are: \")\n",
        "for i in range (2,n + 1):\n",
        "    if i > 1:\n",
        "        for x in range (2, i):\n",
        "            if (i % x) == 0:\n",
        "                break\n",
        "        else:\n",
        "            print (i)"
      ],
      "metadata": {
        "colab": {
          "base_uri": "https://localhost:8080/"
        },
        "id": "cUp7UTSM2wjp",
        "outputId": "0aeeab01-a1a9-4b61-997e-2ae6fd0fbd19"
      },
      "execution_count": null,
      "outputs": [
        {
          "output_type": "stream",
          "name": "stdout",
          "text": [
            "Please, Enter the Lowest Range Value: 2\n",
            "The Prime Numbers in the range are: \n",
            "2\n"
          ]
        }
      ]
    },
    {
      "cell_type": "code",
      "source": [
        "# min of numbers\n",
        "x=int(input())\n",
        "y=int(input())\n",
        "z=int(input())\n",
        "if x<y and x<z:\n",
        "  print(\"x is min.\")\n",
        "elif y<z and y<x:\n",
        "  print(\"y is min\")\n",
        "elif z<x and z<y:\n",
        "  print(\"z is min\")"
      ],
      "metadata": {
        "colab": {
          "base_uri": "https://localhost:8080/"
        },
        "id": "rup1xpVh4g9-",
        "outputId": "24529829-8e7d-4c25-b74c-0385836c6250"
      },
      "execution_count": null,
      "outputs": [
        {
          "output_type": "stream",
          "name": "stdout",
          "text": [
            "10\n",
            "5\n",
            "2\n",
            "z is min\n"
          ]
        }
      ]
    },
    {
      "cell_type": "code",
      "source": [
        "# second largest number\n",
        "x=int(input())\n",
        "y=int(input())\n",
        "z=int(input())\n",
        "a=[x,y,z]\n",
        "a.sort()\n",
        "print(a[1])"
      ],
      "metadata": {
        "colab": {
          "base_uri": "https://localhost:8080/"
        },
        "id": "LYq_dt0N_Ms-",
        "outputId": "b2fc54a0-6fc3-4516-bf31-9928c028de9d"
      },
      "execution_count": null,
      "outputs": [
        {
          "output_type": "stream",
          "name": "stdout",
          "text": [
            "10\n",
            "5\n",
            "6\n",
            "6\n"
          ]
        }
      ]
    },
    {
      "cell_type": "code",
      "source": [
        "for i in range(4):\n",
        "   for x in range(4):\n",
        "      print(\"#\",end=\" \")\n",
        "   print()"
      ],
      "metadata": {
        "id": "D7xynKuw_Fal",
        "colab": {
          "base_uri": "https://localhost:8080/"
        },
        "outputId": "c94cd455-3343-4059-ad2b-2976b7a0de06"
      },
      "execution_count": null,
      "outputs": [
        {
          "output_type": "stream",
          "name": "stdout",
          "text": [
            "# # # # \n",
            "# # # # \n",
            "# # # # \n",
            "# # # # \n"
          ]
        }
      ]
    },
    {
      "cell_type": "code",
      "source": [
        "for i in range(1,6):\n",
        "  for j in range(1,i+1):\n",
        "    print(\"#\",end=\" \")\n",
        "  print()"
      ],
      "metadata": {
        "colab": {
          "base_uri": "https://localhost:8080/"
        },
        "id": "ySV7TQg7vges",
        "outputId": "f05daa5e-dfcb-4de1-e943-c9a589e7db30"
      },
      "execution_count": null,
      "outputs": [
        {
          "output_type": "stream",
          "name": "stdout",
          "text": [
            "# \n",
            "# # \n",
            "# # # \n",
            "# # # # \n",
            "# # # # # \n"
          ]
        }
      ]
    },
    {
      "cell_type": "code",
      "source": [
        "for i in range(6):\n",
        "  for j in range(6-i):\n",
        "    print(\"*\",end=\" \")\n",
        "  print()"
      ],
      "metadata": {
        "colab": {
          "base_uri": "https://localhost:8080/"
        },
        "id": "kgm1jS6VwNOd",
        "outputId": "0db9e519-d759-438b-e5fc-8e46ac7d5ebe"
      },
      "execution_count": null,
      "outputs": [
        {
          "output_type": "stream",
          "name": "stdout",
          "text": [
            "* * * * * * \n",
            "* * * * * \n",
            "* * * * \n",
            "* * * \n",
            "* * \n",
            "* \n"
          ]
        }
      ]
    },
    {
      "cell_type": "code",
      "source": [
        "k=0\n",
        "for i in range(3):\n",
        "  for j in range(3):\n",
        "    print(k,end=\" \")\n",
        "    k+=1\n",
        "  print()\n"
      ],
      "metadata": {
        "id": "x9-M6ibOxrAQ",
        "colab": {
          "base_uri": "https://localhost:8080/"
        },
        "outputId": "0e23ba7e-ddc9-4ddc-9248-fa50679ba30b"
      },
      "execution_count": null,
      "outputs": [
        {
          "output_type": "stream",
          "name": "stdout",
          "text": [
            "0 1 2 \n",
            "3 4 5 \n",
            "6 7 8 \n"
          ]
        }
      ]
    },
    {
      "cell_type": "code",
      "source": [
        "#print a 3*3 matrix\n",
        "k=1\n",
        "for i in range(3):\n",
        "  for j in range(3):\n",
        "    print(k,end=\" \")\n",
        "    k+=1\n",
        "  print()\n",
        "\n"
      ],
      "metadata": {
        "colab": {
          "base_uri": "https://localhost:8080/"
        },
        "id": "novgMpq2oIoS",
        "outputId": "24816f5d-544c-4296-a117-22812e3728e6"
      },
      "execution_count": null,
      "outputs": [
        {
          "output_type": "stream",
          "name": "stdout",
          "text": [
            "1 2 3 \n",
            "4 5 6 \n",
            "7 8 9 \n"
          ]
        }
      ]
    },
    {
      "cell_type": "code",
      "source": [
        "#add all items in the list\n",
        "x=[1,2,3,4,5,3,2,1,4,6,7]\n",
        "sum=0\n",
        "for i in x:\n",
        "  sum+=i\n",
        "print(sum)"
      ],
      "metadata": {
        "id": "dxlMrzoYq4V6",
        "colab": {
          "base_uri": "https://localhost:8080/"
        },
        "outputId": "5f377b58-11e5-42ec-fecb-dc9a86364c13"
      },
      "execution_count": null,
      "outputs": [
        {
          "output_type": "stream",
          "name": "stdout",
          "text": [
            "38\n"
          ]
        }
      ]
    },
    {
      "cell_type": "code",
      "source": [
        "n=int(input(\"Enter a number: \"))\n",
        "for i in range(1,n+1):\n",
        "  if n%i==0:\n",
        "    print(i)"
      ],
      "metadata": {
        "colab": {
          "base_uri": "https://localhost:8080/"
        },
        "id": "OX13PN_KpObd",
        "outputId": "11d4705d-eaa5-4c05-fc98-d38f5b9d67c1"
      },
      "execution_count": null,
      "outputs": [
        {
          "output_type": "stream",
          "name": "stdout",
          "text": [
            "Enter a number: 10\n",
            "1\n",
            "2\n",
            "5\n",
            "10\n"
          ]
        }
      ]
    },
    {
      "cell_type": "code",
      "source": [
        "n=int(input(\" Enter a Number : \"))\n",
        "sum=0\n",
        "for j in range(1,n):\n",
        "  if n%j==0:\n",
        "    sum+=j\n",
        "if sum==n:\n",
        "  print(\"perfect number\")\n",
        "else:\n",
        "  print(\"not perfect\")\n",
        "if n%2==0:\n",
        "  print(\"even\")\n",
        "else:\n",
        "  print(\"odd\")\n"
      ],
      "metadata": {
        "colab": {
          "base_uri": "https://localhost:8080/"
        },
        "id": "mi2FygVWBW3J",
        "outputId": "9ca57aae-a571-493e-83db-1ee46fa47629"
      },
      "execution_count": null,
      "outputs": [
        {
          "output_type": "stream",
          "name": "stdout",
          "text": [
            " Enter a Number : 15\n",
            "not perfect\n",
            "odd\n"
          ]
        }
      ]
    },
    {
      "cell_type": "code",
      "source": [
        "n=int(input())\n",
        "sum=0\n",
        "for j in range(1,n):\n",
        "  if n%j==0:\n",
        "    print(j)\n",
        "    sum+=j\n",
        "print(sum)"
      ],
      "metadata": {
        "colab": {
          "base_uri": "https://localhost:8080/"
        },
        "id": "FlZFSCJBEaQD",
        "outputId": "1e46c105-eb7e-4ca0-8c2e-cc478e69c172"
      },
      "execution_count": null,
      "outputs": [
        {
          "output_type": "stream",
          "name": "stdout",
          "text": [
            "10\n",
            "1\n",
            "2\n",
            "5\n",
            "8\n"
          ]
        }
      ]
    },
    {
      "cell_type": "code",
      "source": [
        "\n",
        "for i in range(6):\n",
        "  for j in range(6-i):\n",
        "    print(\"*\",end=\" \")\n",
        "  print()"
      ],
      "metadata": {
        "colab": {
          "base_uri": "https://localhost:8080/"
        },
        "id": "BjEgulNiITHT",
        "outputId": "9c89b3f0-dba8-49f0-a1a6-cfdd968c23af"
      },
      "execution_count": null,
      "outputs": [
        {
          "output_type": "stream",
          "name": "stdout",
          "text": [
            "* * * * * * \n",
            "* * * * * \n",
            "* * * * \n",
            "* * * \n",
            "* * \n",
            "* \n"
          ]
        }
      ]
    },
    {
      "cell_type": "code",
      "source": [],
      "metadata": {
        "id": "VrqHOi1sa-ql"
      },
      "execution_count": null,
      "outputs": []
    },
    {
      "cell_type": "code",
      "source": [
        "n=int(input())\n",
        "for i in range(n):\n",
        "  num=1\n",
        "  for j in range(i+1):\n",
        "    print(num,end=\" \")\n",
        "    num+=1\n",
        "  print()"
      ],
      "metadata": {
        "id": "Jod20d7pLDqY"
      },
      "execution_count": null,
      "outputs": []
    },
    {
      "cell_type": "code",
      "source": [
        "n=int(input())\n",
        "num=1\n",
        "for i in range(n):\n",
        "  for j in range(i+1):\n",
        "    print(num,end=\" \")\n",
        "    num+=1\n",
        "  print()"
      ],
      "metadata": {
        "id": "yLMYYSfWLvIl"
      },
      "execution_count": null,
      "outputs": []
    },
    {
      "cell_type": "code",
      "source": [
        "n=int(input())\n",
        "for i in range(n):\n",
        "  for j in range(n-i-1):\n",
        "    print(\" \",end=\"\")\n",
        "  for j in range(i+1):\n",
        "    print(\"*\",end=\" \")\n",
        "  print()"
      ],
      "metadata": {
        "id": "et_D9NJzRS3y",
        "colab": {
          "base_uri": "https://localhost:8080/"
        },
        "outputId": "3f82a733-2342-486e-e929-47d5c67d0899"
      },
      "execution_count": null,
      "outputs": [
        {
          "output_type": "stream",
          "name": "stdout",
          "text": [
            "5\n",
            "    * \n",
            "   * * \n",
            "  * * * \n",
            " * * * * \n",
            "* * * * * \n"
          ]
        }
      ]
    },
    {
      "cell_type": "code",
      "source": [
        "n=int(input())\n",
        "for i in range(n):\n",
        "  for j in range(i):\n",
        "    print(\" \",end=\"\")\n",
        "  for j in range(n-i):\n",
        "    print(\"*\",end=\" \")\n",
        "  print()"
      ],
      "metadata": {
        "id": "V5pZ0oBbKIf_"
      },
      "execution_count": null,
      "outputs": []
    },
    {
      "cell_type": "code",
      "source": [
        "n=int(input())\n",
        "for i in range(n):\n",
        "  for j in range(n-i-1):\n",
        "    print(\" \",end=\"\")\n",
        "  for j in range(i+1):\n",
        "    print(\"*\",end=\" \")\n",
        "  print()\n",
        "for i in range(1,n):\n",
        "  for j in range(i):\n",
        "    print(\" \",end=\"\")\n",
        "  for j in range(n-i):\n",
        "    print(\"*\",end=\" \")\n",
        "  print()\n"
      ],
      "metadata": {
        "id": "SuAGdzNvMh_9"
      },
      "execution_count": null,
      "outputs": []
    },
    {
      "cell_type": "code",
      "source": [
        "n=int(input())\n",
        "for i in range(n):\n",
        "  for j in range(n-i):\n",
        "    print(\" \",end=\" \")\n",
        "  for j in range(i+1):\n",
        "    print(\"*\",end=\" \")\n",
        "  print()"
      ],
      "metadata": {
        "id": "uj05Brb5N92F"
      },
      "execution_count": null,
      "outputs": []
    },
    {
      "cell_type": "code",
      "source": [
        "# Harshad number\n",
        "n=int(input(\"enter a number more than 9: \"))\n",
        "sum=0\n",
        "temp=n\n",
        "if n>9:\n",
        "  while temp>0:\n",
        "    rem=temp%10\n",
        "    sum=sum+rem\n",
        "    temp=temp//10\n",
        "  print(sum)\n",
        "if n%sum==0:\n",
        "  print(\"Harshad number\")\n",
        "else:\n",
        "  print(\"Not Harshad number\")\n",
        "\n"
      ],
      "metadata": {
        "id": "qXa9oIirSX7d"
      },
      "execution_count": null,
      "outputs": []
    },
    {
      "cell_type": "code",
      "source": [
        "n=str(153)\n",
        "len(n)"
      ],
      "metadata": {
        "colab": {
          "base_uri": "https://localhost:8080/"
        },
        "id": "6HHQwxJ6Dq_m",
        "outputId": "ab743bc5-3951-4f92-d2d7-dab88ae843c7"
      },
      "execution_count": null,
      "outputs": [
        {
          "output_type": "execute_result",
          "data": {
            "text/plain": [
              "3"
            ]
          },
          "metadata": {},
          "execution_count": 32
        }
      ]
    },
    {
      "cell_type": "code",
      "source": [
        "# Armstrong number\n",
        "n=int(input(\"enter a number : \"))\n",
        "s=n\n",
        "p=0\n",
        "q=n\n",
        "sum=0\n",
        "while s>0:\n",
        "  r=s%10\n",
        "  p+=1\n",
        "  s=s//10\n",
        "print(\"number of digits\",p)\n",
        "while q>0:\n",
        "  rem=q%10\n",
        "  sum=sum+rem**p\n",
        "  q=q//10\n",
        "print(sum)\n",
        "if sum==n:\n",
        "  print(\"Armstrong number\")\n",
        "else:\n",
        "  print(\"Not armstrong number\")\n",
        "\n"
      ],
      "metadata": {
        "id": "cZnVu_OpVBxu",
        "colab": {
          "base_uri": "https://localhost:8080/"
        },
        "outputId": "7434c3e2-2c6f-4a52-e329-c592d6c8acb1"
      },
      "execution_count": null,
      "outputs": [
        {
          "output_type": "stream",
          "name": "stdout",
          "text": [
            "enter a number : 153\n",
            "number of digits 3\n",
            "153\n",
            "Armstrong number\n"
          ]
        }
      ]
    },
    {
      "cell_type": "code",
      "source": [
        "#spy number\n",
        "n=int(input(\" enter a number greater than 9 : \"))\n",
        "a=n\n",
        "b=n\n",
        "sum=0\n",
        "p=1\n",
        "if n>9:\n",
        "  while a>0:\n",
        "    rem=a%10\n",
        "    sum=sum+rem\n",
        "    a=a//10\n",
        "  print(sum)\n",
        "  while b>0:\n",
        "    rem=b%10\n",
        "    p=p*rem\n",
        "    b=b//10\n",
        "  print(p)\n",
        "if sum==p:\n",
        "  print(\"SPY number\")\n",
        "else:\n",
        "  print(\"Not SPY number\")"
      ],
      "metadata": {
        "id": "Ks_Yiy3YZsGs"
      },
      "execution_count": null,
      "outputs": []
    },
    {
      "cell_type": "code",
      "source": [
        "#Happy number\n",
        "n=int(input(\" enter a number : \"))\n",
        "sum=0\n",
        "a=n\n",
        "while a>1:\n",
        "  sum=0\n",
        "  while a>0:\n",
        "      r=a%10\n",
        "      sum=sum+r*r\n",
        "      a=a//10\n",
        "  a=sum\n",
        "print(sum)\n",
        "if sum==1:\n",
        "  print(\"Happy number\")\n",
        "else:\n",
        "  print(\"Not happy number\")\n",
        "\n",
        "\n",
        "\n"
      ],
      "metadata": {
        "id": "AGdB1tCbAoPt"
      },
      "execution_count": null,
      "outputs": []
    },
    {
      "cell_type": "code",
      "source": [
        "#Neon number\n",
        "n=int(input(\"enter a number : \"))\n",
        "a=n*n\n",
        "sum=0\n",
        "while a>0:\n",
        "  r=a%10\n",
        "  sum=sum+r\n",
        "  a=a//10\n",
        "print(sum)\n",
        "if sum==n:\n",
        "  print(\"Neon number\")\n",
        "else:\n",
        "  print(\"not Neon number\")\n"
      ],
      "metadata": {
        "id": "D1xxxLZ4NX_l"
      },
      "execution_count": null,
      "outputs": []
    },
    {
      "cell_type": "code",
      "source": [
        "#Gcd of two numbers using loops\n",
        "a=int(input(\"enter first number : \"))\n",
        "b=int(input(\"enter second number : \"))\n",
        "if a<b:\n",
        "  n=a\n",
        "else:\n",
        "  n=b\n",
        "for i in range(1,n):\n",
        "  if a%i==0 and b%i==0:\n",
        "    hcf=i\n",
        "print(\"HCF of numbers\",a,b,\"is\",hcf)\n"
      ],
      "metadata": {
        "id": "z2eiw3tpPGzI"
      },
      "execution_count": null,
      "outputs": []
    },
    {
      "cell_type": "code",
      "source": [
        "# GCD of two numbers using \"math\" package\n",
        "import math\n",
        "\n",
        "a=int(input(\"Enter first number : \"))\n",
        "b=int(input(\"Enter second number : \"))\n",
        "print(\"GCD of the given number\",a,b)\n",
        "print(math.gcd(a,b))"
      ],
      "metadata": {
        "id": "mIqPQpYFT-tQ"
      },
      "execution_count": null,
      "outputs": []
    },
    {
      "cell_type": "code",
      "source": [
        "n=int(input(\"enter a number : \"))\n",
        "for i in range(2,n+1):\n",
        "  if i>1:\n",
        "    for x in range(2,i):\n",
        "      if i%x==0:\n",
        "        break\n",
        "    else:\n",
        "      print(i)\n"
      ],
      "metadata": {
        "id": "ltKlF732bIzv"
      },
      "execution_count": null,
      "outputs": []
    },
    {
      "cell_type": "code",
      "source": [
        "for i in range(1,7):\n",
        "  for j in range(1,7):\n",
        "    pass\n",
        "print(i,j)"
      ],
      "metadata": {
        "id": "PI0hRSG94Rgm"
      },
      "execution_count": null,
      "outputs": []
    },
    {
      "cell_type": "code",
      "source": [
        "x=[6]\n",
        "for i in range(1,7):\n",
        "  for j in range(1,7):\n",
        "    print(i,j)"
      ],
      "metadata": {
        "id": "mT0LL3J86sZV"
      },
      "execution_count": null,
      "outputs": []
    }
  ]
}